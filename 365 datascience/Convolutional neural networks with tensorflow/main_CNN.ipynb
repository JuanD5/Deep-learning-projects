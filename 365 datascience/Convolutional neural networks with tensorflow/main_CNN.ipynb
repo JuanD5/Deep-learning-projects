{
 "cells": [
  {
   "cell_type": "markdown",
   "metadata": {},
   "source": [
    "# **Convolutional Neural Networks with tensorflow**"
   ]
  },
  {
   "cell_type": "markdown",
   "metadata": {},
   "source": [
    "# **1) Kernels or filters.**"
   ]
  },
  {
   "cell_type": "markdown",
   "metadata": {},
   "source": [
    "## They are the basic building block of filters and CNNs.\n",
    "\n",
    "### Blurring : \n",
    "\n",
    "#### It smears out the differences\n",
    "\n",
    "#### Achieved by averaging the values of a pixel with its neighbors. \n",
    "\n",
    "#### Pixeles are represented by just one number with values.\n",
    "\n",
    "#### For color images, each pixel has 3 different values, each one for 3 channels (red,blue,green).\n",
    "\n",
    "\n"
   ]
  },
  {
   "cell_type": "markdown",
   "metadata": {},
   "source": [
    "# **2)  CNN introduction**"
   ]
  },
  {
   "cell_type": "markdown",
   "metadata": {},
   "source": [
    "#### Kernels are referred as filters. \n",
    "\n",
    "#### We transform the images but not its structure. We only transform the image into a vector until the last layer of the network. \n",
    "\n",
    "#### We use kernels to detect some features from the images. Like corners, arcs etc. They are relevant caracteristics of each image. \n",
    "\n",
    "#### The resulting image, after applying the filter, is called a feature map. \n",
    "\n"
   ]
  },
  {
   "cell_type": "code",
   "execution_count": null,
   "metadata": {},
   "outputs": [],
   "source": []
  }
 ],
 "metadata": {
  "interpreter": {
   "hash": "e72ace55c8aae4b3f488615d4b9ebc16c7c45abe9ff47c99c6ded5cc75ce9da5"
  },
  "kernelspec": {
   "display_name": "Python 3.8.12 64-bit ('py3-TF2.0': conda)",
   "language": "python",
   "name": "python3"
  },
  "language_info": {
   "name": "python",
   "version": "3.8.12"
  },
  "orig_nbformat": 4
 },
 "nbformat": 4,
 "nbformat_minor": 2
}
